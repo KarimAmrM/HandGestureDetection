{
 "cells": [
  {
   "cell_type": "code",
   "execution_count": 1,
   "metadata": {},
   "outputs": [],
   "source": [
    "from sklearn import svm\n",
    "from skimage import io\n",
    "from joblib import dump, load\n",
    "import numpy as np\n",
    "import os\n",
    "from skimage.transform import resize"
   ]
  },
  {
   "cell_type": "code",
   "execution_count": 2,
   "metadata": {},
   "outputs": [],
   "source": [
    "def compute_gradient(image):\n",
    "    gx = np.zeros((image.shape[0], image.shape[1]))\n",
    "    gy = np.zeros((image.shape[0], image.shape[1]))\n",
    "    image = image.astype(np.float32)\n",
    "    gx[:, 1:-1] = (image[:, 2:] - image[:, :-2]) / 2\n",
    "    gy[1:-1, :] = (image[2:, :] - image[:-2, :]) / 2\n",
    "    \n",
    "    gx[:, 0] = image[:, 1] - image[:, 0]\n",
    "    gy[0, :] = image[1, :] - image[0, :]\n",
    "    \n",
    "    gx[:, -1] = image[:, -1] - image[:, -2]\n",
    "    gy[-1, :] = image[-1, :] - image[-2, :]\n",
    "    return gx, gy"
   ]
  },
  {
   "cell_type": "code",
   "execution_count": 3,
   "metadata": {},
   "outputs": [],
   "source": [
    "def hog_cell(orientations, magnitudes, n):\n",
    "    bin_size = int(180 / n)\n",
    "    hog = np.zeros(n)\n",
    "    for i in range(orientations.shape[0]):\n",
    "        for j in range(orientations.shape[1]):\n",
    "            angle = orientations[i, j]\n",
    "            magnitude = magnitudes[i, j]\n",
    "            bin = int(angle / bin_size)\n",
    "            if bin == n:\n",
    "                bin = n - 1\n",
    "            hog[bin] += magnitude\n",
    "            \n",
    "    return hog/(magnitudes.shape[0]*magnitudes.shape[1])"
   ]
  },
  {
   "cell_type": "code",
   "execution_count": 4,
   "metadata": {},
   "outputs": [],
   "source": [
    "def normalize_vector(v):\n",
    "    epsion = 1e-5\n",
    "    return v / np.sqrt(np.sum(v ** 2) + epsion ** 2) "
   ]
  },
  {
   "cell_type": "code",
   "execution_count": 5,
   "metadata": {},
   "outputs": [],
   "source": [
    "def get_hog_featrue(img):\n",
    "    gx, gy = compute_gradient(img)\n",
    "    x, y = gx.shape\n",
    "    cx , cy = 8, 8\n",
    "    bx , by = 1, 1\n",
    "    \n",
    "    magnitude = np.sqrt(gx**2 + gy**2)\n",
    "    angels = np.rad2deg(np.arctan2(gy, gx)) % 180\n",
    "    \n",
    "    n_cells_x = int(x / cx)\n",
    "    n_cells_y = int(y / cy)\n",
    "    n_blocks_x = n_cells_x - bx + 1\n",
    "    n_blocks_y = n_cells_y - by + 1\n",
    "    \n",
    "    cells = np.zeros((n_cells_x, n_cells_y, 9))\n",
    "    prev_x = 0\n",
    "    for i in range(n_cells_x):\n",
    "        prev_y = 0\n",
    "        for j in range(n_cells_y):\n",
    "            cells[i, j] = hog_cell(angels[prev_x:prev_x+cx, prev_y:prev_y+cy], magnitude[prev_x:prev_x+cx, prev_y:prev_y+cy], 9)\n",
    "            prev_y += cy\n",
    "        prev_x += cx\n",
    "    \n",
    "    cells_norm = np.zeros((n_blocks_x, n_blocks_y, 9))\n",
    "    #normalize the cells\n",
    "    \n",
    "    for i in range(n_blocks_x):\n",
    "        for j in range(n_blocks_y):\n",
    "            cells_norm[i, j] = normalize_vector(cells[i:i+bx, j:j+by].ravel())\n",
    "            \n",
    "    return cells_norm.ravel()"
   ]
  },
  {
   "cell_type": "code",
   "execution_count": 6,
   "metadata": {},
   "outputs": [],
   "source": [
    "def resize_img(img1):\n",
    "    #resize photo to 200x200\n",
    "    img_new = resize(img1, (256, 256), anti_aliasing=False)\n",
    "    return img_new"
   ]
  },
  {
   "cell_type": "code",
   "execution_count": 7,
   "metadata": {},
   "outputs": [],
   "source": [
    "def normalize_img(img):\n",
    "    #resize photo so that only the hand is visible\n",
    "    # get the most left pixel that is not black\n",
    "    if img.shape[0] == 0 or img.shape[1] == 0:\n",
    "        return img\n",
    "    #check indcies are not out of bounds\n",
    "    most_left = np.where(img.sum(axis=0) != 0)[0][0]\n",
    "    most_top = np.where(img.sum(axis=1) != 0)[0][0]\n",
    "    most_right = np.where(img.sum(axis=0) != 0)[0][-1]\n",
    "    most_bottom = np.where(img.sum(axis=1) != 0)[0][-1]\n",
    "    resized_img = img[most_top:most_bottom, most_left:most_right]\n",
    "    return resized_img"
   ]
  },
  {
   "cell_type": "code",
   "execution_count": 8,
   "metadata": {},
   "outputs": [],
   "source": [
    "def get_paper_hand_imgs():\n",
    "    imgs = []\n",
    "    labels = []\n",
    "    #open folder with paper hands\n",
    "    #get all images in folder and append to imgs\n",
    "    path = 'C:/Users/Fastora/Downloads/HandGestureDetection/data/data/data/train/five/'\n",
    "    for filename in os.listdir(path):\n",
    "        img = io.imread(path+filename)\n",
    "        img_flipped = np.fliplr(img)\n",
    "        img_flipped = normalize_img(img_flipped)\n",
    "        resized_flipped = resize_img(img_flipped)\n",
    "        imgs.append(resized_flipped)\n",
    "        labels.append(\"paper\")\n",
    "        img = normalize_img(img)\n",
    "        resized = resize_img(img)\n",
    "        imgs.append(resized)\n",
    "        labels.append(\"paper\")\n",
    "    return imgs, labels\n",
    "\n",
    "def get_rad_hand_imgs():\n",
    "    imgs = []\n",
    "    labels = []\n",
    "    #open folder with rock hands\n",
    "    #get all images in folder and append to imgs\n",
    "    path = 'C:/Users/Fastora/Downloads/HandGestureDetection/data/data/data/train/rad/'\n",
    "    for filename in os.listdir(path):\n",
    "        img = io.imread(path+filename)\n",
    "        img_flipped = np.fliplr(img)\n",
    "        img_flipped = normalize_img(img_flipped)\n",
    "        resized_flipped = resize_img(img_flipped)\n",
    "        imgs.append(resized_flipped)\n",
    "        labels.append(\"rad\")\n",
    "        img = normalize_img(img)\n",
    "        resized = resize_img(img)\n",
    "        imgs.append(resized)\n",
    "        labels.append(\"rad\")\n",
    "    return imgs, labels\n",
    "\n",
    "def get_peace_hand_imgs():\n",
    "    imgs = []\n",
    "    labels = []\n",
    "    #open folder with scissors hands\n",
    "    #get all images in folder and append to imgs\n",
    "    path = 'C:/Users/Fastora/Downloads/HandGestureDetection/data/data/data/train/peace/'\n",
    "    for filename in os.listdir(path):\n",
    "        img = io.imread(path+filename)\n",
    "        img_flipped = np.fliplr(img)\n",
    "        img_flipped = normalize_img(img_flipped)\n",
    "        resized_flipped = resize_img(img_flipped)\n",
    "        imgs.append(resized_flipped)\n",
    "        labels.append(\"peace\")\n",
    "        img = normalize_img(img)\n",
    "        resized = resize_img(img)\n",
    "        imgs.append(resized)\n",
    "        labels.append(\"peace\")\n",
    "    return imgs, labels\n",
    "\n",
    "def get_fist_hand_imgs():\n",
    "    imgs = []\n",
    "    labels = []\n",
    "    #open folder with thumbs up hands\n",
    "    #get all images in folder and append to imgs\n",
    "    path = 'C:/Users/Fastora/Downloads/HandGestureDetection/data/data/data/train/fist/'\n",
    "    for filename in os.listdir(path):\n",
    "        img = io.imread(path+filename)\n",
    "        img_flipped = np.fliplr(img)\n",
    "        img_flipped = normalize_img(img_flipped)\n",
    "        resized_flipped = resize_img(img_flipped)\n",
    "        imgs.append(resized_flipped)\n",
    "        labels.append(\"fist\")\n",
    "        img = normalize_img(img)\n",
    "        resized = resize_img(img)\n",
    "        imgs.append(resized)\n",
    "        labels.append(\"fist\")\n",
    "    return imgs, labels\n",
    "\n",
    "def get_thumbsup_hand_imgs():\n",
    "    imgs = []\n",
    "    labels = []\n",
    "    #open folder with thumbs up hands\n",
    "    #get all images in folder and append to imgs\n",
    "    path = 'C:/Users/Fastora/Downloads/HandGestureDetection/data/data/data/train/thumbs/'\n",
    "    for filename in os.listdir(path):\n",
    "        img = io.imread(path+filename)\n",
    "        img_flipped = np.fliplr(img)\n",
    "        img_flipped = normalize_img(img_flipped)\n",
    "        resized_flipped = resize_img(img_flipped)\n",
    "        imgs.append(resized_flipped)\n",
    "        labels.append(\"thumbs\")\n",
    "        img = normalize_img(img)\n",
    "        resized = resize_img(img)\n",
    "        imgs.append(resized)\n",
    "        labels.append(\"thumbs\")\n",
    "    return imgs, labels\n",
    "\n",
    "def get_perfecto_imgs():\n",
    "    imgs = []\n",
    "    labels = []\n",
    "    weights = []\n",
    "    #open folder with thumbs up hands\n",
    "    #get all images in folder and append to imgs\n",
    "    path = 'C:/Users/Fastora/Downloads/HandGestureDetection/data/data/data/train/okay/'\n",
    "    for filename in os.listdir(path):\n",
    "        img = io.imread(path+filename)\n",
    "        img_flipped = np.fliplr(img)\n",
    "        img_flipped = normalize_img(img_flipped)\n",
    "        resized_flipped = resize_img(img_flipped)\n",
    "        imgs.append(resized_flipped)\n",
    "        labels.append(\"perfecto\")\n",
    "        img = normalize_img(img)\n",
    "        resized = resize_img(img)\n",
    "        imgs.append(resized)\n",
    "        labels.append(\"perfecto\")\n",
    "    return imgs, labels\n",
    "\n",
    "def get_straight_imgs():\n",
    "    imgs = []\n",
    "    labels = []\n",
    "    path = 'C:/Users/Fastora/Downloads/HandGestureDetection/data/data/data/train/straight/'\n",
    "    for filename in os.listdir(path):\n",
    "        img = io.imread(path+filename)\n",
    "        img_flipped = np.fliplr(img)\n",
    "        img_flipped = normalize_img(img_flipped)\n",
    "        resized_flipped = resize_img(img_flipped)\n",
    "        imgs.append(resized_flipped)\n",
    "        labels.append(\"straight\")\n",
    "        img = normalize_img(img)\n",
    "        resized = resize_img(img)\n",
    "        imgs.append(resized)\n",
    "        labels.append(\"straight\")\n",
    "    return imgs, labels\n",
    "\n",
    "def get_none_imgs():\n",
    "    imgs = []\n",
    "    labels = []\n",
    "    path = 'C:/Users/Fastora/Downloads/HandGestureDetection/data/data/data/train/none/'\n",
    "    for filename in os.listdir(path):\n",
    "        img = io.imread(path+filename)\n",
    "        resized = resize_img(img)\n",
    "        imgs.append(resized)\n",
    "        labels.append(\"none\")\n",
    "    return imgs, labels"
   ]
  },
  {
   "cell_type": "code",
   "execution_count": 9,
   "metadata": {},
   "outputs": [],
   "source": [
    "def extract_features(imgs_labels, feature_vector=True):\n",
    "    features = []\n",
    "    labels = []\n",
    "    for img_label in imgs_labels:\n",
    "        #get hog features of image and append to features and label to labels\n",
    "        fd = get_hog_featrue(img_label[0])\n",
    "        labels.append(img_label[1])\n",
    "        features.append(fd)\n",
    "    return features, labels"
   ]
  },
  {
   "cell_type": "code",
   "execution_count": 10,
   "metadata": {},
   "outputs": [],
   "source": [
    "paper_imgs , paper_labels = get_paper_hand_imgs()\n",
    "peace_imgs , peace_labels = get_peace_hand_imgs()\n",
    "fist_imgs , fist_labels = get_fist_hand_imgs()\n",
    "rad_imgs , rad_labels = get_rad_hand_imgs()\n",
    "thumbs_imgs , thumbs_labels = get_thumbsup_hand_imgs()\n",
    "perfecto_imgs , perfecto_labels = get_perfecto_imgs()\n",
    "straight_imgs , straight_labels = get_straight_imgs()\n",
    "none_imgs , none_labels = get_none_imgs()"
   ]
  },
  {
   "cell_type": "code",
   "execution_count": 11,
   "metadata": {},
   "outputs": [],
   "source": [
    "imgs_labels = []\n",
    "for i in range(len(paper_imgs)):\n",
    "    imgs_labels.append((paper_imgs[i], paper_labels[i]))\n",
    "for i in range(len(fist_imgs)):\n",
    "    imgs_labels.append((fist_imgs[i], fist_labels[i]))\n",
    "for i in range(len(peace_imgs)):\n",
    "    imgs_labels.append((peace_imgs[i], peace_labels[i]))\n",
    "for i in range(len(rad_imgs)):\n",
    "    imgs_labels.append((rad_imgs[i], rad_labels[i]))\n",
    "for i in range(len(thumbs_imgs)):\n",
    "    imgs_labels.append((thumbs_imgs[i], thumbs_labels[i]))\n",
    "for i in range(len(perfecto_imgs)):\n",
    "    imgs_labels.append((perfecto_imgs[i], perfecto_labels[i]))\n",
    "for i in range(len(straight_imgs)):\n",
    "    imgs_labels.append((straight_imgs[i], straight_labels[i]))\n",
    "for i in range(len(none_imgs)):\n",
    "    imgs_labels.append((none_imgs[i], none_labels[i]))"
   ]
  },
  {
   "cell_type": "code",
   "execution_count": 12,
   "metadata": {},
   "outputs": [],
   "source": [
    "features , labels = extract_features(imgs_labels)"
   ]
  },
  {
   "cell_type": "code",
   "execution_count": 13,
   "metadata": {},
   "outputs": [
    {
     "data": {
      "text/plain": [
       "SVC()"
      ]
     },
     "execution_count": 13,
     "metadata": {},
     "output_type": "execute_result"
    }
   ],
   "source": [
    "clf = svm.SVC()\n",
    "clf.fit(features, labels)"
   ]
  },
  {
   "cell_type": "code",
   "execution_count": 14,
   "metadata": {},
   "outputs": [
    {
     "data": {
      "text/plain": [
       "['model.joblib']"
      ]
     },
     "execution_count": 14,
     "metadata": {},
     "output_type": "execute_result"
    }
   ],
   "source": [
    "dump(clf, 'model.joblib')"
   ]
  }
 ],
 "metadata": {
  "kernelspec": {
   "display_name": "base",
   "language": "python",
   "name": "python3"
  },
  "language_info": {
   "codemirror_mode": {
    "name": "ipython",
    "version": 3
   },
   "file_extension": ".py",
   "mimetype": "text/x-python",
   "name": "python",
   "nbconvert_exporter": "python",
   "pygments_lexer": "ipython3",
   "version": "3.9.12"
  },
  "orig_nbformat": 4,
  "vscode": {
   "interpreter": {
    "hash": "f349190717d272d3ade161473407867587ac6304e8b0ec5270171486f6c34825"
   }
  }
 },
 "nbformat": 4,
 "nbformat_minor": 2
}
